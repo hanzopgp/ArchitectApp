{
  "nbformat": 4,
  "nbformat_minor": 0,
  "metadata": {
    "colab": {
      "name": "main.ipynb",
      "provenance": [],
      "collapsed_sections": [],
      "toc_visible": true,
      "authorship_tag": "ABX9TyPL4ZaWYU0C8iXfbiNR9MG0",
      "include_colab_link": true
    },
    "kernelspec": {
      "name": "python3",
      "display_name": "Python 3"
    },
    "language_info": {
      "name": "python"
    },
    "accelerator": "TPU"
  },
  "cells": [
    {
      "cell_type": "markdown",
      "metadata": {
        "id": "view-in-github",
        "colab_type": "text"
      },
      "source": [
        "<a href=\"https://colab.research.google.com/github/hanzopgp/ArchitectApp/blob/master/main.ipynb\" target=\"_parent\"><img src=\"https://colab.research.google.com/assets/colab-badge.svg\" alt=\"Open In Colab\"/></a>"
      ]
    },
    {
      "cell_type": "markdown",
      "metadata": {
        "id": "i73Xl57NP-ch"
      },
      "source": [
        "# --> Importations"
      ]
    },
    {
      "cell_type": "code",
      "metadata": {
        "id": "gihdiLyaQENs"
      },
      "source": [
        "import tensorflow as tf\n",
        "import numpy as np\n",
        "import pandas as pd\n",
        "import matplotlib.pyplot as plt"
      ],
      "execution_count": 3,
      "outputs": []
    },
    {
      "cell_type": "markdown",
      "metadata": {
        "id": "Mbw0w3CqRJbb"
      },
      "source": [
        "# --> Global variables"
      ]
    },
    {
      "cell_type": "code",
      "metadata": {
        "id": "3sFD7c9VRLR5"
      },
      "source": [
        "SEQ_LEN = 64\n",
        "HOLD_PERCENT_DIFF = 0.03"
      ],
      "execution_count": 7,
      "outputs": []
    },
    {
      "cell_type": "markdown",
      "metadata": {
        "id": "A2kqZd44P-hp"
      },
      "source": [
        "# --> Datasets on google drive"
      ]
    },
    {
      "cell_type": "code",
      "metadata": {
        "colab": {
          "base_uri": "https://localhost:8080/"
        },
        "id": "ueO3dYW2P3Ri",
        "outputId": "1c240b72-6f52-4704-b5ac-b5f5a6b9d717"
      },
      "source": [
        "from google.colab import drive\n",
        "drive.mount('/content/drive')"
      ],
      "execution_count": 4,
      "outputs": [
        {
          "output_type": "stream",
          "text": [
            "Mounted at /content/drive\n"
          ],
          "name": "stdout"
        }
      ]
    },
    {
      "cell_type": "code",
      "metadata": {
        "colab": {
          "base_uri": "https://localhost:8080/"
        },
        "id": "hRKSDVQ3PClt",
        "outputId": "901299d3-052b-4bf2-b1a2-be88f9bcdb8f"
      },
      "source": [
        "!ls \"/content/drive/My Drive/Datasets/BTCPrice/btc_data\""
      ],
      "execution_count": 5,
      "outputs": [
        {
          "output_type": "stream",
          "text": [
            "BTCUSDT_01-01-2018_1m.csv  BTCUSDT_01-07-2020_1m.csv  BTCUSDT_02-01-2020_1m.csv\n",
            "BTCUSDT_01-01-2019_1m.csv  BTCUSDT_01-08-2018_1m.csv  BTCUSDT_02-01-2021_1m.csv\n",
            "BTCUSDT_01-01-2020_1m.csv  BTCUSDT_01-08-2019_1m.csv  BTCUSDT_02-02-2018_1m.csv\n",
            "BTCUSDT_01-01-2021_1m.csv  BTCUSDT_01-08-2020_1m.csv  BTCUSDT_02-02-2019_1m.csv\n",
            "BTCUSDT_01-02-2018_1m.csv  BTCUSDT_01-09-2017_1m.csv  BTCUSDT_02-02-2020_1m.csv\n",
            "BTCUSDT_01-02-2019_1m.csv  BTCUSDT_01-09-2018_1m.csv  BTCUSDT_02-02-2021_1m.csv\n",
            "BTCUSDT_01-02-2020_1m.csv  BTCUSDT_01-09-2019_1m.csv  BTCUSDT_02-03-2018_1m.csv\n",
            "BTCUSDT_01-02-2021_1m.csv  BTCUSDT_01-09-2020_1m.csv  BTCUSDT_02-03-2019_1m.csv\n",
            "BTCUSDT_01-03-2018_1m.csv  BTCUSDT_01-10-2017_1m.csv  BTCUSDT_02-03-2020_1m.csv\n",
            "BTCUSDT_01-03-2019_1m.csv  BTCUSDT_01-10-2018_1m.csv  BTCUSDT_02-04-2018_1m.csv\n",
            "BTCUSDT_01-03-2020_1m.csv  BTCUSDT_01-10-2019_1m.csv  BTCUSDT_02-04-2019_1m.csv\n",
            "BTCUSDT_01-04-2018_1m.csv  BTCUSDT_01-10-2020_1m.csv  BTCUSDT_02-04-2020_1m.csv\n",
            "BTCUSDT_01-04-2019_1m.csv  BTCUSDT_01-11-2017_1m.csv  BTCUSDT_02-05-2018_1m.csv\n",
            "BTCUSDT_01-04-2020_1m.csv  BTCUSDT_01-11-2018_1m.csv  BTCUSDT_02-05-2019_1m.csv\n",
            "BTCUSDT_01-05-2018_1m.csv  BTCUSDT_01-11-2019_1m.csv  BTCUSDT_02-05-2020_1m.csv\n",
            "BTCUSDT_01-05-2019_1m.csv  BTCUSDT_01-11-2020_1m.csv  BTCUSDT_02-06-2018_1m.csv\n",
            "BTCUSDT_01-05-2020_1m.csv  BTCUSDT_01-12-2017_1m.csv  BTCUSDT_02-06-2019_1m.csv\n",
            "BTCUSDT_01-06-2018_1m.csv  BTCUSDT_01-12-2018_1m.csv  BTCUSDT_02-06-2020_1m.csv\n",
            "BTCUSDT_01-06-2019_1m.csv  BTCUSDT_01-12-2019_1m.csv  BTCUSDT_02-07-2018_1m.csv\n",
            "BTCUSDT_01-06-2020_1m.csv  BTCUSDT_01-12-2020_1m.csv  BTCUSDT_02-07-2019_1m.csv\n",
            "BTCUSDT_01-07-2018_1m.csv  BTCUSDT_02-01-2018_1m.csv\n",
            "BTCUSDT_01-07-2019_1m.csv  BTCUSDT_02-01-2019_1m.csv\n"
          ],
          "name": "stdout"
        }
      ]
    },
    {
      "cell_type": "markdown",
      "metadata": {
        "id": "pgKVgGXeQb5H"
      },
      "source": [
        "# --> Setup TPU"
      ]
    },
    {
      "cell_type": "code",
      "metadata": {
        "colab": {
          "base_uri": "https://localhost:8080/"
        },
        "id": "GqNXCVsrQfoH",
        "outputId": "1de5ed49-30d1-4d36-c044-eef6b855a5e0"
      },
      "source": [
        "print(\"Tensorflow version \" + tf.__version__)\n",
        "\n",
        "try:\n",
        "  tpu = tf.distribute.cluster_resolver.TPUClusterResolver()  # TPU detection\n",
        "  print('Running on TPU ', tpu.cluster_spec().as_dict()['worker'])\n",
        "  tf.config.experimental_connect_to_cluster(tpu)\n",
        "  tf.tpu.experimental.initialize_tpu_system(tpu)\n",
        "  tpu_strategy = tf.distribute.experimental.TPUStrategy(tpu)\n",
        "  print(tpu_strategy)\n",
        "except ValueError:\n",
        "  tpu_strategy = None\n",
        "  #raise BaseException('ERROR: Not connected to a TPU runtime !')"
      ],
      "execution_count": 6,
      "outputs": [
        {
          "output_type": "stream",
          "text": [
            "Tensorflow version 2.4.1\n",
            "Running on TPU  ['10.98.188.66:8470']\n",
            "INFO:tensorflow:Initializing the TPU system: grpc://10.98.188.66:8470\n"
          ],
          "name": "stdout"
        },
        {
          "output_type": "stream",
          "text": [
            "INFO:tensorflow:Initializing the TPU system: grpc://10.98.188.66:8470\n"
          ],
          "name": "stderr"
        },
        {
          "output_type": "stream",
          "text": [
            "INFO:tensorflow:Clearing out eager caches\n"
          ],
          "name": "stdout"
        },
        {
          "output_type": "stream",
          "text": [
            "INFO:tensorflow:Clearing out eager caches\n"
          ],
          "name": "stderr"
        },
        {
          "output_type": "stream",
          "text": [
            "INFO:tensorflow:Finished initializing TPU system.\n"
          ],
          "name": "stdout"
        },
        {
          "output_type": "stream",
          "text": [
            "INFO:tensorflow:Finished initializing TPU system.\n",
            "WARNING:absl:`tf.distribute.experimental.TPUStrategy` is deprecated, please use  the non experimental symbol `tf.distribute.TPUStrategy` instead.\n"
          ],
          "name": "stderr"
        },
        {
          "output_type": "stream",
          "text": [
            "INFO:tensorflow:Found TPU system:\n"
          ],
          "name": "stdout"
        },
        {
          "output_type": "stream",
          "text": [
            "INFO:tensorflow:Found TPU system:\n"
          ],
          "name": "stderr"
        },
        {
          "output_type": "stream",
          "text": [
            "INFO:tensorflow:*** Num TPU Cores: 8\n"
          ],
          "name": "stdout"
        },
        {
          "output_type": "stream",
          "text": [
            "INFO:tensorflow:*** Num TPU Cores: 8\n"
          ],
          "name": "stderr"
        },
        {
          "output_type": "stream",
          "text": [
            "INFO:tensorflow:*** Num TPU Workers: 1\n"
          ],
          "name": "stdout"
        },
        {
          "output_type": "stream",
          "text": [
            "INFO:tensorflow:*** Num TPU Workers: 1\n"
          ],
          "name": "stderr"
        },
        {
          "output_type": "stream",
          "text": [
            "INFO:tensorflow:*** Num TPU Cores Per Worker: 8\n"
          ],
          "name": "stdout"
        },
        {
          "output_type": "stream",
          "text": [
            "INFO:tensorflow:*** Num TPU Cores Per Worker: 8\n"
          ],
          "name": "stderr"
        },
        {
          "output_type": "stream",
          "text": [
            "INFO:tensorflow:*** Available Device: _DeviceAttributes(/job:localhost/replica:0/task:0/device:CPU:0, CPU, 0, 0)\n"
          ],
          "name": "stdout"
        },
        {
          "output_type": "stream",
          "text": [
            "INFO:tensorflow:*** Available Device: _DeviceAttributes(/job:localhost/replica:0/task:0/device:CPU:0, CPU, 0, 0)\n"
          ],
          "name": "stderr"
        },
        {
          "output_type": "stream",
          "text": [
            "INFO:tensorflow:*** Available Device: _DeviceAttributes(/job:worker/replica:0/task:0/device:CPU:0, CPU, 0, 0)\n"
          ],
          "name": "stdout"
        },
        {
          "output_type": "stream",
          "text": [
            "INFO:tensorflow:*** Available Device: _DeviceAttributes(/job:worker/replica:0/task:0/device:CPU:0, CPU, 0, 0)\n"
          ],
          "name": "stderr"
        },
        {
          "output_type": "stream",
          "text": [
            "INFO:tensorflow:*** Available Device: _DeviceAttributes(/job:worker/replica:0/task:0/device:TPU:0, TPU, 0, 0)\n"
          ],
          "name": "stdout"
        },
        {
          "output_type": "stream",
          "text": [
            "INFO:tensorflow:*** Available Device: _DeviceAttributes(/job:worker/replica:0/task:0/device:TPU:0, TPU, 0, 0)\n"
          ],
          "name": "stderr"
        },
        {
          "output_type": "stream",
          "text": [
            "INFO:tensorflow:*** Available Device: _DeviceAttributes(/job:worker/replica:0/task:0/device:TPU:1, TPU, 0, 0)\n"
          ],
          "name": "stdout"
        },
        {
          "output_type": "stream",
          "text": [
            "INFO:tensorflow:*** Available Device: _DeviceAttributes(/job:worker/replica:0/task:0/device:TPU:1, TPU, 0, 0)\n"
          ],
          "name": "stderr"
        },
        {
          "output_type": "stream",
          "text": [
            "INFO:tensorflow:*** Available Device: _DeviceAttributes(/job:worker/replica:0/task:0/device:TPU:2, TPU, 0, 0)\n"
          ],
          "name": "stdout"
        },
        {
          "output_type": "stream",
          "text": [
            "INFO:tensorflow:*** Available Device: _DeviceAttributes(/job:worker/replica:0/task:0/device:TPU:2, TPU, 0, 0)\n"
          ],
          "name": "stderr"
        },
        {
          "output_type": "stream",
          "text": [
            "INFO:tensorflow:*** Available Device: _DeviceAttributes(/job:worker/replica:0/task:0/device:TPU:3, TPU, 0, 0)\n"
          ],
          "name": "stdout"
        },
        {
          "output_type": "stream",
          "text": [
            "INFO:tensorflow:*** Available Device: _DeviceAttributes(/job:worker/replica:0/task:0/device:TPU:3, TPU, 0, 0)\n"
          ],
          "name": "stderr"
        },
        {
          "output_type": "stream",
          "text": [
            "INFO:tensorflow:*** Available Device: _DeviceAttributes(/job:worker/replica:0/task:0/device:TPU:4, TPU, 0, 0)\n"
          ],
          "name": "stdout"
        },
        {
          "output_type": "stream",
          "text": [
            "INFO:tensorflow:*** Available Device: _DeviceAttributes(/job:worker/replica:0/task:0/device:TPU:4, TPU, 0, 0)\n"
          ],
          "name": "stderr"
        },
        {
          "output_type": "stream",
          "text": [
            "INFO:tensorflow:*** Available Device: _DeviceAttributes(/job:worker/replica:0/task:0/device:TPU:5, TPU, 0, 0)\n"
          ],
          "name": "stdout"
        },
        {
          "output_type": "stream",
          "text": [
            "INFO:tensorflow:*** Available Device: _DeviceAttributes(/job:worker/replica:0/task:0/device:TPU:5, TPU, 0, 0)\n"
          ],
          "name": "stderr"
        },
        {
          "output_type": "stream",
          "text": [
            "INFO:tensorflow:*** Available Device: _DeviceAttributes(/job:worker/replica:0/task:0/device:TPU:6, TPU, 0, 0)\n"
          ],
          "name": "stdout"
        },
        {
          "output_type": "stream",
          "text": [
            "INFO:tensorflow:*** Available Device: _DeviceAttributes(/job:worker/replica:0/task:0/device:TPU:6, TPU, 0, 0)\n"
          ],
          "name": "stderr"
        },
        {
          "output_type": "stream",
          "text": [
            "INFO:tensorflow:*** Available Device: _DeviceAttributes(/job:worker/replica:0/task:0/device:TPU:7, TPU, 0, 0)\n"
          ],
          "name": "stdout"
        },
        {
          "output_type": "stream",
          "text": [
            "INFO:tensorflow:*** Available Device: _DeviceAttributes(/job:worker/replica:0/task:0/device:TPU:7, TPU, 0, 0)\n"
          ],
          "name": "stderr"
        },
        {
          "output_type": "stream",
          "text": [
            "INFO:tensorflow:*** Available Device: _DeviceAttributes(/job:worker/replica:0/task:0/device:TPU_SYSTEM:0, TPU_SYSTEM, 0, 0)\n"
          ],
          "name": "stdout"
        },
        {
          "output_type": "stream",
          "text": [
            "INFO:tensorflow:*** Available Device: _DeviceAttributes(/job:worker/replica:0/task:0/device:TPU_SYSTEM:0, TPU_SYSTEM, 0, 0)\n"
          ],
          "name": "stderr"
        },
        {
          "output_type": "stream",
          "text": [
            "INFO:tensorflow:*** Available Device: _DeviceAttributes(/job:worker/replica:0/task:0/device:XLA_CPU:0, XLA_CPU, 0, 0)\n"
          ],
          "name": "stdout"
        },
        {
          "output_type": "stream",
          "text": [
            "INFO:tensorflow:*** Available Device: _DeviceAttributes(/job:worker/replica:0/task:0/device:XLA_CPU:0, XLA_CPU, 0, 0)\n"
          ],
          "name": "stderr"
        },
        {
          "output_type": "stream",
          "text": [
            "<tensorflow.python.distribute.tpu_strategy.TPUStrategy object at 0x7f3e55f6fc90>\n"
          ],
          "name": "stdout"
        }
      ]
    },
    {
      "cell_type": "markdown",
      "metadata": {
        "id": "M5Kljx6xkTIm"
      },
      "source": [
        "# --> Classifying targets"
      ]
    },
    {
      "cell_type": "code",
      "metadata": {
        "id": "jzzqUEWckTNm"
      },
      "source": [
        "def classify(current, future):\n",
        "    increase_percentage = ((float(future)-float(current))/float(current))\n",
        "    if np.absolute(increase_percentage) < HOLD_PERCENT_DIFF:\n",
        "        return 2 #2 is for holds\n",
        "    elif float(future) > float(current):\n",
        "        return 1 #1 is for buys\n",
        "    else:\n",
        "        return 0 #0 is for sells"
      ],
      "execution_count": null,
      "outputs": []
    },
    {
      "cell_type": "markdown",
      "metadata": {
        "id": "KAD65bpRRBFT"
      },
      "source": [
        "# --> Data preprocessing"
      ]
    },
    {
      "cell_type": "code",
      "metadata": {
        "id": "_Brwef6hRBz3"
      },
      "source": [
        "def preprocess_df(df):\n",
        "    for col in df.columns:                                \n",
        "        if col != \"target\":                               #Don't preprocess targets\n",
        "            df[col] = df[col].pct_change()                #Normalize data\n",
        "            df.dropna(inplace=True)                       #Drops useless data\n",
        "            df[col] = preprocessing.scale(df[col].values) #Scales data\n",
        "    df.dropna(inplace=True)                               #Drops useless data                             \n",
        "    \n",
        "    sequential_data = []\n",
        "    prev_days = deque(maxlen=SEQ_LEN)                     #Keeps adding data until max len\n",
        "#     print(df.head(10))\n",
        "#     print(\"===================================================================\")\n",
        "#     for c in df.columns:\n",
        "#         print(c)\n",
        "    for i in df.values:                                   #We take values, but not time since it's the index\n",
        "        prev_days.append([n for n in i[:-1]])             #\"n for n\" is our rows without targets\n",
        "        if len(prev_days) == SEQ_LEN:\n",
        "            sequential_data.append([np.array(prev_days), i[-1]])\n",
        "    \n",
        "    random.shuffle(sequential_data)                       #Shuffle data\n",
        "    \n",
        "    buys = []\n",
        "    sells = []\n",
        "    holds = []\n",
        "    for seq, target in sequential_data:\n",
        "        if target == 0:\n",
        "            sells.append([seq, target])\n",
        "        elif target == 1:\n",
        "            buys.append([seq, target])\n",
        "        elif target == 2:\n",
        "            holds.append([seq, target])\n",
        "    random.shuffle(buys)\n",
        "    random.shuffle(sells)\n",
        "    random.shuffle(holds)\n",
        "    lower = min(len(buys), len(sells), len(holds))\n",
        "    buys = buys[:lower]                                   #Balance data\n",
        "    sells = sells[:lower]\n",
        "    holds = holds[:lower]\n",
        "    sequential_data = buys + sells + holds\n",
        "    random.shuffle(sequential_data)                       #Model shouldn't see only buys, then only sells...\n",
        "    \n",
        "    X = []\n",
        "    y = []\n",
        "    for seq, target in sequential_data:\n",
        "        X.append(seq)\n",
        "        y.append(target)\n",
        "\n",
        "    return np.array(X), np.array(y)"
      ],
      "execution_count": null,
      "outputs": []
    }
  ]
}